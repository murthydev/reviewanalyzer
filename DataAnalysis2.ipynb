{
 "cells": [
  {
   "cell_type": "markdown",
   "id": "7291b1c9",
   "metadata": {},
   "source": [
    "# Imports"
   ]
  },
  {
   "cell_type": "code",
   "execution_count": 3,
   "id": "f6c66fe9",
   "metadata": {
    "ExecuteTime": {
     "end_time": "2021-12-12T20:31:54.375452Z",
     "start_time": "2021-12-12T20:31:54.368971Z"
    },
    "scrolled": true
   },
   "outputs": [
    {
     "name": "stderr",
     "output_type": "stream",
     "text": [
      "[nltk_data] Downloading package stopwords to /home/murthy/nltk_data...\n",
      "[nltk_data]   Package stopwords is already up-to-date!\n",
      "[nltk_data] Downloading package punkt to /home/murthy/nltk_data...\n",
      "[nltk_data]   Package punkt is already up-to-date!\n",
      "[nltk_data] Downloading package averaged_perceptron_tagger to\n",
      "[nltk_data]     /home/murthy/nltk_data...\n",
      "[nltk_data]   Package averaged_perceptron_tagger is already up-to-\n",
      "[nltk_data]       date!\n",
      "[nltk_data] Downloading package words to /home/murthy/nltk_data...\n",
      "[nltk_data]   Package words is already up-to-date!\n"
     ]
    },
    {
     "data": {
      "text/plain": [
       "True"
      ]
     },
     "execution_count": 3,
     "metadata": {},
     "output_type": "execute_result"
    }
   ],
   "source": [
    "import glob\n",
    "import csv\n",
    "import pandas as pd\n",
    "import matplotlib.pyplot as plt\n",
    "import numpy as np\n",
    "import os\n",
    "import pandas as pd\n",
    "import random\n",
    "import string\n",
    "\n",
    "#! python3 -m pip install nltk\n",
    "#! echo \"https://ashleygingeleski.com/2021/03/31/sentiment-analysis-of-product-reviews-with-python-using-nltk/\"\n",
    "import nltk\n",
    "from nltk.tokenize import WhitespaceTokenizer\n",
    "from nltk.corpus import stopwords\n",
    "from nltk import classify\n",
    "from nltk import NaiveBayesClassifier\n",
    "\n",
    "nltk.download('stopwords')\n",
    "nltk.download('punkt')\n",
    "nltk.download('averaged_perceptron_tagger')\n",
    "nltk.download('words')\n"
   ]
  },
  {
   "cell_type": "markdown",
   "id": "8731b13d",
   "metadata": {},
   "source": [
    "# Inits , Global configs"
   ]
  },
  {
   "cell_type": "code",
   "execution_count": 7,
   "id": "8dde6960",
   "metadata": {
    "ExecuteTime": {
     "end_time": "2021-12-12T20:38:10.201654Z",
     "start_time": "2021-12-12T20:38:10.198344Z"
    }
   },
   "outputs": [],
   "source": [
    "data_maps = {\n",
    "            \"Robinhood_GooglePlay_Reviews_enUS.csv\":[\"score\",\"content\",\"at\"],\n",
    "            \"Reviews 2.csv\":[\"Rating\",'Review Text',\"Date\"],\n",
    "            \"GooglePayIndia.csv\":[\"score\",\"content\",\"at\"],\n",
    "            \"DisneylandReviews.csv\":[\"Rating\",'Review_Text',\"Year_Month\"],\n",
    "            \"tripadvisor_hotel_reviews.csv\":[\"Rating\",'Review',None],\n",
    "            \"PhonePayIndia.csv\":[\"score\",\"content\",\"at\"],\n",
    "            \"PaytmIndia.csv\":[\"score\",\"content\",\"at\"]\n",
    "}\n",
    "# data_maps = {\n",
    "#             \"PhonePayIndia.csv\":[\"score\",\"content\",\"at\"]\n",
    "# }"
   ]
  },
  {
   "cell_type": "markdown",
   "id": "665ad491",
   "metadata": {},
   "source": [
    "# Tag Extraction"
   ]
  },
  {
   "cell_type": "code",
   "execution_count": 37,
   "id": "4c453318",
   "metadata": {
    "ExecuteTime": {
     "end_time": "2021-12-12T21:24:12.815034Z",
     "start_time": "2021-12-12T21:24:12.799923Z"
    }
   },
   "outputs": [],
   "source": [
    "from nltk.tokenize import RegexpTokenizer\n",
    "import nltk.tokenize as nt\n",
    "import csv\n",
    "from tqdm import tqdm\n",
    "from nltk.stem import PorterStemmer\n",
    "from nltk.tokenize import sent_tokenize, word_tokenize\n",
    "from nltk.stem.wordnet import WordNetLemmatizer\n",
    "import re\n"
   ]
  },
  {
   "cell_type": "code",
   "execution_count": 75,
   "id": "48ab9ccb",
   "metadata": {
    "ExecuteTime": {
     "end_time": "2021-12-12T22:32:05.232704Z",
     "start_time": "2021-12-12T22:32:05.138615Z"
    },
    "code_folding": [
     2,
     8,
     29,
     40,
     60,
     65,
     164,
     170,
     175,
     178
    ]
   },
   "outputs": [],
   "source": [
    "\n",
    "class DataTagger():\n",
    "    def __init__(self,fname):\n",
    "        self.review_file = fname\n",
    "        self.generate_splits()\n",
    "        self.regex = re.compile('[^a-zA-Z\\s0-9]')\n",
    "        self.words = set(nltk.corpus.words.words())\n",
    "        \n",
    "    def generate_splits(self):\n",
    "    #for file in files:\n",
    "        file = self.review_file\n",
    "        self.reviews = pd.read_csv(file)\n",
    "        bname = os.path.basename(file)\n",
    "        if data_maps[bname][2] is None:\n",
    "            new_reviews = self.reviews[data_maps[os.path.basename(file)][:2]].to_numpy()\n",
    "            \n",
    "            pos_df = new_reviews[new_reviews[:,0] >= 4]\n",
    "            neg_df = new_reviews[new_reviews[:,0] < 4]            \n",
    "            self.df_pos = pd.DataFrame(data=pos_df,index=None,columns=[\"score\", \"review_text\"])\n",
    "            self.df_neg = pd.DataFrame(data=neg_df,index=None,columns=[\"score\", \"review_text\"])\n",
    "        else:\n",
    "            new_reviews = self.reviews[data_maps[os.path.basename(file)]].to_numpy()\n",
    "            pos_df = new_reviews[new_reviews[:,0] >= 4]\n",
    "            neg_df = new_reviews[new_reviews[:,0] < 4]\n",
    "            self.df_pos = pd.DataFrame(data=pos_df,index=None,columns=[\"score\", \"review_text\",\"Date\"]).sort_values(by=['Date'])\n",
    "            self.df_neg = pd.DataFrame(data=neg_df,index=None,columns=[\"score\", \"review_text\",\"Date\"]).sort_values(by=['Date'])\n",
    "        self.df_pos.to_csv(os.path.basename(file)[:-4]+\"_pos.csv\",index=None,)\n",
    "        self.df_neg.to_csv(os.path.basename(file)[:-4]+\"_neg.csv\",index=None,) \n",
    "            \n",
    "    def plot_sentiments(self):\n",
    "        fig = plt.figure()\n",
    "        fig.set_size_inches(20, 10)        \n",
    "        Sentiment_count=self.reviews.groupby(data_maps[os.path.basename(file)][0]).count()\n",
    "        plt.bar(Sentiment_count.index.values, Sentiment_count[data_maps[os.path.basename(file)][1]])        \n",
    "        plt.xlabel('Review Sentiments')\n",
    "        plt.ylabel('Number of Review')\n",
    "        plt.show()\n",
    "        print(\"score\", \"counts\")\n",
    "        print(self.reviews[data_maps[os.path.basename(file)][0]].value_counts())\n",
    "    \n",
    "    def preprocess(self):\n",
    "        pos_list = self.df_pos.to_numpy()[:,1].tolist()\n",
    "        neg_list = self.df_neg.to_numpy()[:,1].tolist()\n",
    "\n",
    "        self.senti_dict = {\"pos\": pos_list,\n",
    "                      \"neg\":neg_list}\n",
    "        \n",
    "        stop = set(stopwords.words('english') + list(string.punctuation))\n",
    "        tokenizer = WhitespaceTokenizer()\n",
    "        self.features = []\n",
    "        self.filtered_list=[]\n",
    "        for label,s_list in self.senti_dict.items():\n",
    "            list_lowered = [str(word).lower() for word in s_list]\n",
    "            list_to_string = ' '.join([str(elem) for elem in list_lowered])      \n",
    "            filtered_list_tmp = [w for w in tokenizer.tokenize(list_to_string) if w not in stop] \n",
    "            filtered_list = [w.strip(string.punctuation) for w in filtered_list_tmp]\n",
    "            \n",
    "            self.features.append([(self.word_features(f), label) for f in filtered_list])\n",
    "            self.filtered_list.append(filtered_list)\n",
    "\n",
    "    def remove_punct(self,text):\n",
    "        tokenizer = RegexpTokenizer(r\"\\w+\")\n",
    "        lst=tokenizer.tokenize(' '.join(text))\n",
    "        return lst\n",
    "    \n",
    "    def generate_tags(self):\n",
    "        lines = []\n",
    "        prefixes = [\"pos\",\"neg\"]\n",
    "        \n",
    "        fname = os.path.basename(self.review_file)\n",
    "        p_fname = fname[:-4]+\"_pos.csv\"\n",
    "        n_fname = fname[:-4]+\"_neg.csv\"\n",
    "        \n",
    "        pos_df = pd.read_csv(p_fname)\n",
    "        neg_df = pd.read_csv(n_fname)\n",
    "        pos_list = pos_df.to_numpy()[:,1].tolist()\n",
    "        neg_list = neg_df.to_numpy()[:,1].tolist()\n",
    "    \n",
    "        filter_list = [pos_list,neg_list]\n",
    "        #for idx,senti_list in enumerate(self.filtered_list):\n",
    "        for idx,senti_list in enumerate(filter_list):\n",
    "            pos_list =senti_list\n",
    "            for i in tqdm(range(len(pos_list))):\n",
    "                #for text in pos_list:#[:10]:\n",
    "                raw_text = pos_list[i]\n",
    "\n",
    "                if not isinstance(raw_text, str):\n",
    "                    continue\n",
    "                #text = \"me kya ho raha hai  brother\"\n",
    "                #text = \" \".join(w for w in nltk.wordpunct_tokenize(raw_text) if w.lower() in words or not w.isalpha())\n",
    "                text = raw_text\n",
    "                text.lower()\n",
    "                # #First parameter is the replacement, second parameter is your input string\n",
    "                text = self.regex.sub('', text)\n",
    "\n",
    "\n",
    "                # SENTENCE TOKENIZATION\n",
    "                ss=nt.sent_tokenize(text)\n",
    "                ss =self.remove_punct(ss)\n",
    "\n",
    "                # WORD TOKENIZATION\n",
    "                tokenized_sent=[nt.word_tokenize(sent) for sent in ss]\n",
    "\n",
    "\n",
    "                # REMOVE STOP WORDS\n",
    "                pos_list_lowered = [str(word).lower() for word in tokenized_sent]\n",
    "                pos_list_to_string = ' '.join([str(elem) for elem in pos_list_lowered])\n",
    "\n",
    "                tokenizer = WhitespaceTokenizer()\n",
    "                stop = set(stopwords.words('english') + list(string.punctuation))\n",
    "                filtered_pos_list = [w for w in tokenizer.tokenize(pos_list_to_string) if w not in stop] \n",
    "\n",
    "                # Stemming\n",
    "                ps = PorterStemmer()\n",
    "                stemmed_words = [ps.stem(w) for w in filtered_pos_list]         \n",
    "                #lem = WordNetLemmatizer()\n",
    "\n",
    "                # POS tagging\n",
    "                #stemmed_list_to_string = ' '.join([str(elem) for elem in stemmed_words])\n",
    "                #print(stemmed_list_to_string,stemmed_words)\n",
    "                #if stemmed_list_to_string is str:\n",
    "                #    pos_sentences=nltk.pos_tag(stemmed_list_to_string)\n",
    "                #else:\n",
    "                #pos_sentences=[nltk.pos_tag(sent) for sent in stemmed_list_to_string]\n",
    "                #print(stemmed_words)\n",
    "\n",
    "                pos_sentences=[nltk.pos_tag(sent) for sent in tokenized_sent]\n",
    "\n",
    "                nouns = []\n",
    "                adj = []\n",
    "                verb = []\n",
    "                for r in pos_sentences:#[:10]:\n",
    "                    for s   in r:\n",
    "                        (val,key) = s\n",
    "                        \n",
    "                        #print(\"iterate\",val,key)\n",
    "                        if key == \"NN\" or key ==\"NNP\" or key ==\"NNS\":\n",
    "                            nouns.append(val)\n",
    "                        if key == \"JJ\" or key ==\"JJR\" or key ==\"JJS\":\n",
    "                            adj.append(val)\n",
    "                        if key == \"VB\" or key ==\"VBG\" \\\n",
    "                            or key ==\"VBD\" or key ==\"VBN\" \\\n",
    "                            or key ==\"VBP\" or key ==\"VBZ\" :\n",
    "                            verb.append(val)\n",
    "                '''\n",
    "                print(\"-\"*20)\n",
    "                print(\"Text\",text)\n",
    "                print(\"Nouns\",nouns)\n",
    "                print(\"Adj\",adj)\n",
    "                print(\"Verb\",verb)\n",
    "                nouns = \"\" if nouns == [] else nouns\n",
    "                adj = \"\" if adj == [] else adj\n",
    "                verb = \"\" if verb == [] else verb\n",
    "                print(tokenized_sent,[nouns,adj,verb])\n",
    "                '''\n",
    "                lines.append([text,nouns,adj,verb])\n",
    "            rev_base_name = os.path.basename(self.review_file)\n",
    "            tag_file_name = rev_base_name[:-4]+\"_{}_tags.csv\".format(prefixes[idx])        \n",
    "            tag_file_name_clean = \"pos_tags/\"+rev_base_name[:-4]+\"_{}_tags_clean.csv\".format(prefixes[idx])        \n",
    "            self.write_tags(tag_file_name,lines)            \n",
    "            ! cat $tag_file_name | sed \"s/\\\"//\" > tmp_out.txt\n",
    "            ! cat tmp_out.txt | sed \"s/\\'//\" > $tag_file_name_clean\n",
    "            ! rm -f  tmp_out.txt $tag_file_name\n",
    "    \n",
    "    def generate_features(self):\n",
    "        labeledwords = self.features[0]+self.features[1] #positive_features + negative_features\n",
    "        random.shuffle(labeledwords)\n",
    "        self.train_set, self.test_set = labeledwords[2000:], labeledwords[:500]\n",
    "        return self.train_set,self.test_set\n",
    "    \n",
    "    def train_classifier(self):#train_set, test_set):    \n",
    "        self.classifier = nltk.NaiveBayesClassifier.train(self.train_set)\n",
    "        self.accuracy = nltk.classify.accuracy(self.classifier, self.test_set)\n",
    "        return self.classifier,self.accuracy\n",
    "\n",
    "    def word_features(self,words):\n",
    "        return dict([(word, True) for word in words.split()])\n",
    "\n",
    "    def write_tags(self,csv_fname,data):\n",
    "        # writing to csv file \n",
    "        print(csv_fname)\n",
    "        with open(csv_fname, 'a') as csvfile: \n",
    "            # creating a csv writer object \n",
    "            csvwriter = csv.writer(csvfile,delimiter=\":\") \n",
    "            # writing the fields \n",
    "            csvwriter.writerows(data)       \n",
    "    \n",
    "    def cluster_entities(self):\n",
    "        # mini-batch k-means clustering\n",
    "        from numpy import unique\n",
    "        from numpy import where\n",
    "        from sklearn.datasets import make_classification\n",
    "        from sklearn.cluster import MiniBatchKMeans\n",
    "        from matplotlib import pyplot\n",
    "        # define dataset\n",
    "        X, _ = make_classification(n_samples=1000, n_features=2, n_informative=2, n_redundant=0, n_clusters_per_class=2, random_state=4)\n",
    "        \n",
    "        # vectorize TF_ID\n",
    "        \n",
    "        # Word embedding\n",
    "        \n",
    "        # generate Features \n",
    "        # self.generate_features()\n",
    "        \n",
    "        # define the model\n",
    "        print(X.shape)\n",
    "        \n",
    "        model = MiniBatchKMeans(n_clusters=2)\n",
    "        # fit the model\n",
    "        model.fit(X)\n",
    "        # assign a cluster to each example\n",
    "        yhat = model.predict(X)\n",
    "        # retrieve unique clusters\n",
    "        clusters = unique(yhat)\n",
    "        # create scatter plot for samples from each cluster\n",
    "        for cluster in clusters:\n",
    "            # get row indexes for samples with this cluster\n",
    "            row_ix = where(yhat == cluster)\n",
    "            # create scatter of these samples\n",
    "            pyplot.scatter(X[row_ix, 0], X[row_ix, 1])\n",
    "        # show the plot\n",
    "        pyplot.show()            \n",
    "        \n",
    "        "
   ]
  },
  {
   "cell_type": "code",
   "execution_count": 76,
   "id": "3add5c51",
   "metadata": {
    "ExecuteTime": {
     "end_time": "2021-12-12T22:32:19.520956Z",
     "start_time": "2021-12-12T22:32:06.322571Z"
    },
    "scrolled": false
   },
   "outputs": [
    {
     "name": "stdout",
     "output_type": "stream",
     "text": [
      "=================PhonePayIndia.csv=================\n"
     ]
    },
    {
     "data": {
      "image/png": "[encoded data removed]",
      "text/plain": [
       "<Figure size 1440x720 with 1 Axes>"
      ]
     },
     "metadata": {
      "needs_background": "light"
     },
     "output_type": "display_data"
    },
    {
     "name": "stdout",
     "output_type": "stream",
     "text": [
      "score counts\n",
      "5    7699\n",
      "1    1765\n",
      "4    1483\n",
      "3     517\n",
      "2     277\n",
      "Name: score, dtype: int64\n"
     ]
    },
    {
     "name": "stderr",
     "output_type": "stream",
     "text": [
      "100%|██████████| 9182/9182 [00:06<00:00, 1429.89it/s]"
     ]
    },
    {
     "name": "stdout",
     "output_type": "stream",
     "text": [
      "PhonePayIndia_pos_tags.csv\n"
     ]
    },
    {
     "name": "stderr",
     "output_type": "stream",
     "text": [
      "\n",
      "100%|██████████| 2559/2559 [00:05<00:00, 507.06it/s]"
     ]
    },
    {
     "name": "stdout",
     "output_type": "stream",
     "text": [
      "PhonePayIndia_neg_tags.csv\n"
     ]
    },
    {
     "name": "stderr",
     "output_type": "stream",
     "text": [
      "\n"
     ]
    },
    {
     "name": "stdout",
     "output_type": "stream",
     "text": [
      "(1000, 2)\n"
     ]
    },
    {
     "data": {
      "image/png": "[encoded data removed]",
      "text/plain": [
       "<Figure size 432x288 with 1 Axes>"
      ]
     },
     "metadata": {
      "needs_background": "light"
     },
     "output_type": "display_data"
    },
    {
     "name": "stdout",
     "output_type": "stream",
     "text": [
      "\n",
      "PhonePayIndia.csv  - Classifier Test Accuracy:  0.714\n",
      "\n"
     ]
    }
   ],
   "source": [
    "\n",
    "for file,_ in data_maps.items():\n",
    "    \n",
    "    file = \"PhonePayIndia.csv\" # Commment to run on all datasets\n",
    "    \n",
    "    print(\"================={}=================\".format(file))\n",
    "    tagger = DataTagger(\"raw_data/\"+file)\n",
    "    tagger.plot_sentiments()\n",
    "    tagger.preprocess()\n",
    "    tagger.generate_tags()\n",
    "    tagger.generate_features()\n",
    "    tagger.train_classifier()\n",
    "    tagger.cluster_entities()\n",
    "    print()\n",
    "    print(file,\" - Classifier Test Accuracy: \",tagger.accuracy)\n",
    "    print()\n",
    "    break"
   ]
  }
 ],
 "metadata": {
  "kernelspec": {
   "display_name": "Python 3",
   "language": "python",
   "name": "python3"
  },
  "language_info": {
   "codemirror_mode": {
    "name": "ipython",
    "version": 3
   },
   "file_extension": ".py",
   "mimetype": "text/x-python",
   "name": "python",
   "nbconvert_exporter": "python",
   "pygments_lexer": "ipython3",
   "version": "3.6.9"
  }
 },
 "nbformat": 4,
 "nbformat_minor": 5
}
